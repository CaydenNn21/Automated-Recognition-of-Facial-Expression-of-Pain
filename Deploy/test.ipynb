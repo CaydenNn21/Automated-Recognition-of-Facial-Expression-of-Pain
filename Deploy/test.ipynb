{
 "cells": [
  {
   "cell_type": "code",
   "execution_count": null,
   "metadata": {},
   "outputs": [],
   "source": [
    "prediction_message = f'Prediction: {\"hii\"}\\n'\n",
    "def test():\n",
    "\n",
    "\tyield (b'--frame\\r\\n'\n",
    "\t       b'Content-Type: image/jpeg\\r\\n\\r\\n' + b'\\r\\n\\r\\n')\n",
    "\tyield  ( b'--frame\\r\\n'\n",
    "\t       b'Content-Type: text/plain\\r\\n\\r\\n' + prediction_message.encode() + b'\\r\\n\\r\\n')  "
   ]
  },
  {
   "cell_type": "code",
   "execution_count": 3,
   "metadata": {},
   "outputs": [
    {
     "data": {
      "image/png": "[encoded data removed]",
      "text/plain": [
       "<Figure size 432x288 with 1 Axes>"
      ]
     },
     "metadata": {
      "needs_background": "light"
     },
     "output_type": "display_data"
    }
   ],
   "source": [
    "\n",
    "import cv2\n",
    "from matplotlib import pyplot as plt\n",
    "import numpy as np\n",
    "\n",
    "\n",
    "ksize = 31  # Kernel size\n",
    "sigma = 1.5  # Standard deviation of the Gaussian envelope\n",
    "theta = np.pi / 2 # Orientation of the Gabor filter np.pi / 4\n",
    "lambd = 20# Wavelength of the sinusoidal factor\n",
    "gamma = 0.5 # Spatial aspect ratio\n",
    "\n",
    "# ksize = 31  \n",
    "# # sigma for Gaussian envelope \n",
    "# sigma = 5  \n",
    "# # range of orientation values \n",
    "# theta = np.pi / 4\n",
    "# # frequency of sinusoidal wave \n",
    "# lambd = 0.3  \n",
    "# # phase of sinusoidal wave \n",
    "# gamma = 0  \n",
    "  \n",
    "\n",
    "# Create Gabor kernel\n",
    "gabor_kernel = cv2.getGaborKernel((ksize, ksize), sigma, theta, lambd, gamma)\n",
    "plt.imshow(gabor_kernel, cmap='gray') \n",
    "plt.title(\"Kernel with orientation = \" + str(theta)) \n",
    "plt.show()"
   ]
  },
  {
   "cell_type": "code",
   "execution_count": null,
   "metadata": {},
   "outputs": [],
   "source": [
    "from flask import Response\n",
    "\n",
    "\n",
    "a = Response(test(),mimetype='multipart/x-mixed-replace; boundary=frame')\n",
    "print(a.data)\n",
    "for value in test():\n",
    "\tprint(value)\n",
    "\n",
    "if a.data.startsWith('--frame\\r\\nContent-Type: image/jpeg\\r\\n\\r\\n'):\n",
    "\tprint(\"hello\")"
   ]
  }
 ],
 "metadata": {
  "kernelspec": {
   "display_name": "Python 3",
   "language": "python",
   "name": "python3"
  },
  "language_info": {
   "codemirror_mode": {
    "name": "ipython",
    "version": 3
   },
   "file_extension": ".py",
   "mimetype": "text/x-python",
   "name": "python",
   "nbconvert_exporter": "python",
   "pygments_lexer": "ipython3",
   "version": "3.10.4"
  }
 },
 "nbformat": 4,
 "nbformat_minor": 2
}
