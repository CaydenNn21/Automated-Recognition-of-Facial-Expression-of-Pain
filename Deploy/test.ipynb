{
 "cells": [
  {
   "cell_type": "code",
   "execution_count": 31,
   "metadata": {},
   "outputs": [],
   "source": [
    "prediction_message = f'Prediction: {\"hii\"}\\n'\n",
    "def test():\n",
    "\n",
    "\tyield (b'--frame\\r\\n'\n",
    "\t       b'Content-Type: image/jpeg\\r\\n\\r\\n' + b'\\r\\n\\r\\n')\n",
    "\tyield  ( b'--frame\\r\\n'\n",
    "\t       b'Content-Type: text/plain\\r\\n\\r\\n' + prediction_message.encode() + b'\\r\\n\\r\\n')  "
   ]
  },
  {
   "cell_type": "markdown",
   "metadata": {},
   "source": []
  },
  {
   "cell_type": "code",
   "execution_count": 32,
   "metadata": {},
   "outputs": [
    {
     "name": "stdout",
     "output_type": "stream",
     "text": [
      "b'--frame\\r\\nContent-Type: image/jpeg\\r\\n\\r\\n\\r\\n\\r\\n--frame\\r\\nContent-Type: text/plain\\r\\n\\r\\nPrediction: hii\\n\\r\\n\\r\\n'\n",
      "b'--frame\\r\\nContent-Type: image/jpeg\\r\\n\\r\\n\\r\\n\\r\\n'\n",
      "b'--frame\\r\\nContent-Type: text/plain\\r\\n\\r\\nPrediction: hii\\n\\r\\n\\r\\n'\n"
     ]
    },
    {
     "ename": "AttributeError",
     "evalue": "'bytes' object has no attribute 'startsWith'",
     "output_type": "error",
     "traceback": [
      "\u001b[1;31m---------------------------------------------------------------------------\u001b[0m",
      "\u001b[1;31mAttributeError\u001b[0m                            Traceback (most recent call last)",
      "Input \u001b[1;32mIn [32]\u001b[0m, in \u001b[0;36m<cell line: 9>\u001b[1;34m()\u001b[0m\n\u001b[0;32m      6\u001b[0m \u001b[38;5;28;01mfor\u001b[39;00m value \u001b[38;5;129;01min\u001b[39;00m test():\n\u001b[0;32m      7\u001b[0m \t\u001b[38;5;28mprint\u001b[39m(value)\n\u001b[1;32m----> 9\u001b[0m \u001b[38;5;28;01mif\u001b[39;00m \u001b[43ma\u001b[49m\u001b[38;5;241;43m.\u001b[39;49m\u001b[43mdata\u001b[49m\u001b[38;5;241;43m.\u001b[39;49m\u001b[43mstartsWith\u001b[49m(\u001b[38;5;124m'\u001b[39m\u001b[38;5;124m--frame\u001b[39m\u001b[38;5;130;01m\\r\u001b[39;00m\u001b[38;5;130;01m\\n\u001b[39;00m\u001b[38;5;124mContent-Type: image/jpeg\u001b[39m\u001b[38;5;130;01m\\r\u001b[39;00m\u001b[38;5;130;01m\\n\u001b[39;00m\u001b[38;5;130;01m\\r\u001b[39;00m\u001b[38;5;130;01m\\n\u001b[39;00m\u001b[38;5;124m'\u001b[39m):\n\u001b[0;32m     10\u001b[0m \t\u001b[38;5;28mprint\u001b[39m(\u001b[38;5;124m\"\u001b[39m\u001b[38;5;124mhello\u001b[39m\u001b[38;5;124m\"\u001b[39m)\n",
      "\u001b[1;31mAttributeError\u001b[0m: 'bytes' object has no attribute 'startsWith'"
     ]
    }
   ],
   "source": [
    "from flask import Response\n",
    "\n",
    "\n",
    "a = Response(test(),mimetype='multipart/x-mixed-replace; boundary=frame')\n",
    "print(a.data)\n",
    "for value in test():\n",
    "\tprint(value)\n",
    "\n",
    "if a.data.startsWith('--frame\\r\\nContent-Type: image/jpeg\\r\\n\\r\\n'):\n",
    "\tprint(\"hello\")"
   ]
  }
 ],
 "metadata": {
  "kernelspec": {
   "display_name": "Python 3",
   "language": "python",
   "name": "python3"
  },
  "language_info": {
   "codemirror_mode": {
    "name": "ipython",
    "version": 3
   },
   "file_extension": ".py",
   "mimetype": "text/x-python",
   "name": "python",
   "nbconvert_exporter": "python",
   "pygments_lexer": "ipython3",
   "version": "3.10.4"
  }
 },
 "nbformat": 4,
 "nbformat_minor": 2
}
