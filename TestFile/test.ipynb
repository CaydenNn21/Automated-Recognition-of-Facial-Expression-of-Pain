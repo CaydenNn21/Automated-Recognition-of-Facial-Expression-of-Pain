{
 "cells": [
  {
   "cell_type": "code",
   "execution_count": 10,
   "metadata": {},
   "outputs": [],
   "source": [
    "from CRNN import CRNN\n",
    "import cv2 as cv\n",
    "import face_alignment\n",
    "from face_alignment import LandmarksType\n",
    "from face_alignment import FaceAlignment\n",
    "\n",
    "crnn_model = CRNN(num_classes=10)  # Replace '10' with the actual number of output classes\n"
   ]
  },
  {
   "cell_type": "code",
   "execution_count": 11,
   "metadata": {},
   "outputs": [],
   "source": [
    "\n",
    "cap = cv.VideoCapture(0)\n",
    "\n",
    "# Face detector option can be blazeface, sfd, or dlib (must install with visual studio C++)\n",
    "model = FaceAlignment(landmarks_type= LandmarksType.TWO_D, face_detector='blazeface', face_detector_kwargs={'back_model': True},device='cpu')\n",
    "total_frames = int (20)\n",
    "frames = [None]*total_frames\n",
    "count = 0 \n",
    "while count < total_frames:\n",
    "    ret, frame = cap.read()\n",
    "    frames[count] = frame\n",
    "    # faces = model.get_landmarks(frame)\n",
    "\n",
    "    # if faces is not None:\n",
    "    #     # Iterate over the detected faces\n",
    "    #     for pred in faces:\n",
    "    #         # Draw landmarks on the frame\n",
    "    #         for point in pred:\n",
    "    #             x, y = point\n",
    "    #             if 0 <= x < frame.shape[1] and 0 <= y < frame.shape[0]:\n",
    "    #                 cv.circle(frame, (int(x), int(y)), 2, (0, 255, 0), -1)\n",
    "    count += 1\n",
    "    cv.imshow('OpenCv',frame)\n",
    "    if cv.waitKey(1) & 0xFF == ord('q'):\n",
    "        break\n",
    "\n",
    "cap.release()\n",
    "cv.destroyAllWindows()\n",
    "    "
   ]
  },
  {
   "cell_type": "code",
   "execution_count": 15,
   "metadata": {},
   "outputs": [
    {
     "ename": "RuntimeError",
     "evalue": "permute(sparse_coo): number of dimensions in the tensor input does not match the length of the desired ordering of dimensions i.e. input.dim() = 4 is not equal to len(dims) = 5",
     "output_type": "error",
     "traceback": [
      "\u001b[1;31m---------------------------------------------------------------------------\u001b[0m",
      "\u001b[1;31mRuntimeError\u001b[0m                              Traceback (most recent call last)",
      "\u001b[1;32md:\\Library\\Documents\\UM Lecture Notes & Tutorial\\FYP\\Source Code\\TestFile\\test.ipynb Cell 3\u001b[0m in \u001b[0;36m<cell line: 12>\u001b[1;34m()\u001b[0m\n\u001b[0;32m      <a href='vscode-notebook-cell:/d%3A/Library/Documents/UM%20Lecture%20Notes%20%26%20Tutorial/FYP/Source%20Code/TestFile/test.ipynb#W1sZmlsZQ%3D%3D?line=8'>9</a>\u001b[0m frames_tensor \u001b[39m=\u001b[39m frames_tensor \u001b[39m/\u001b[39m \u001b[39m255.0\u001b[39m\n\u001b[0;32m     <a href='vscode-notebook-cell:/d%3A/Library/Documents/UM%20Lecture%20Notes%20%26%20Tutorial/FYP/Source%20Code/TestFile/test.ipynb#W1sZmlsZQ%3D%3D?line=10'>11</a>\u001b[0m \u001b[39m# Transpose the tensor to match the expected input shape (batch_size, seq_len, channels, height, width)\u001b[39;00m\n\u001b[1;32m---> <a href='vscode-notebook-cell:/d%3A/Library/Documents/UM%20Lecture%20Notes%20%26%20Tutorial/FYP/Source%20Code/TestFile/test.ipynb#W1sZmlsZQ%3D%3D?line=11'>12</a>\u001b[0m frames_tensor \u001b[39m=\u001b[39m frames_tensor\u001b[39m.\u001b[39;49mpermute(\u001b[39m1\u001b[39;49m, \u001b[39m20\u001b[39;49m, \u001b[39m3\u001b[39;49m, \u001b[39m480\u001b[39;49m,\u001b[39m640\u001b[39;49m)\n",
      "\u001b[1;31mRuntimeError\u001b[0m: permute(sparse_coo): number of dimensions in the tensor input does not match the length of the desired ordering of dimensions i.e. input.dim() = 4 is not equal to len(dims) = 5"
     ]
    }
   ],
   "source": [
    "import torch\n",
    "\n",
    "# 'frames' should be a tensor with shape (batch_size, seq_len, channels, height, width)\n",
    "\n",
    "# Convert the frames to a PyTorch tensor\n",
    "frames_tensor = torch.tensor(frames, dtype=torch.float32)\n",
    "\n",
    "# Normalize the pixel values (assuming pixel range is 0-255)\n",
    "frames_tensor = frames_tensor / 255.0\n",
    "\n",
    "# Transpose the tensor to match the expected input shape (batch_size, seq_len, channels, height, width)\n",
    "frames_tensor = frames_tensor.permute(1, 20, 3, 480,640)\n"
   ]
  },
  {
   "cell_type": "code",
   "execution_count": null,
   "metadata": {},
   "outputs": [],
   "source": [
    "# Set the model to evaluation mode\n",
    "model.eval()\n",
    "\n",
    "# Forward pass through the model\n",
    "with torch.no_grad():\n",
    "    output = model(frames_tensor)\n"
   ]
  },
  {
   "cell_type": "code",
   "execution_count": null,
   "metadata": {},
   "outputs": [],
   "source": [
    "print(output)"
   ]
  }
 ],
 "metadata": {
  "kernelspec": {
   "display_name": "Python 3",
   "language": "python",
   "name": "python3"
  },
  "language_info": {
   "codemirror_mode": {
    "name": "ipython",
    "version": 3
   },
   "file_extension": ".py",
   "mimetype": "text/x-python",
   "name": "python",
   "nbconvert_exporter": "python",
   "pygments_lexer": "ipython3",
   "version": "3.10.4"
  },
  "orig_nbformat": 4
 },
 "nbformat": 4,
 "nbformat_minor": 2
}
